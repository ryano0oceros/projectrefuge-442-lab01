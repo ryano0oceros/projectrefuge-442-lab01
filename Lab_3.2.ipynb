{
 "cells": [
  {
   "cell_type": "raw",
   "id": "17546ebb",
   "metadata": {
    "vscode": {
     "languageId": "raw"
    }
   },
   "source": [
    "---\n",
    "keywords: [agent, agents]\n",
    "---"
   ]
  },
  {
   "cell_type": "markdown",
   "id": "1df78a71",
   "metadata": {},
   "source": [
    "# Build an Agent\n",
    "\n",
    "By themselves, language models can't take actions - they just output text.\n",
    "A big use case for LangChain is creating **agents**.\n",
    "[Agents](/docs/concepts/agents) are systems that use [LLMs](/docs/concepts/chat_models) as reasoning engines to determine which actions to take and the inputs necessary to perform the action.\n",
    "After executing actions, the results can be fed back into the LLM to determine whether more actions are needed, or whether it is okay to finish. This is often achieved via [tool-calling](/docs/concepts/tool_calling).\n",
    "\n",
    "In this tutorial we will build an agent that can interact with a search engine. You will be able to ask this agent questions, watch it call the search tool, and have conversations with it.\n",
    "\n",
    "## End-to-end agent\n",
    "\n",
    "The code snippet below represents a fully functional agent that uses an LLM to decide which tools to use. It is equipped with a generic search tool. It has conversational memory - meaning that it can be used as a multi-turn chatbot.\n",
    "\n",
    "In the rest of the guide, we will walk through the individual components and what each part does - but if you want to just grab some code and get started, feel free to use this!"
   ]
  },
  {
   "cell_type": "code",
   "execution_count": 9,
   "id": "a79bb782",
   "metadata": {},
   "outputs": [
    {
     "name": "stdout",
     "output_type": "stream",
     "text": [
      "{'agent': {'messages': [AIMessage(content=\"Hi Ryan! It's great to meet you. How's it going in New Jersey? If you have any questions or topics you'd like to discuss, feel free to share!\", additional_kwargs={'refusal': None}, response_metadata={'token_usage': {'completion_tokens': 36, 'prompt_tokens': 88, 'total_tokens': 124, 'completion_tokens_details': {'accepted_prediction_tokens': 0, 'audio_tokens': 0, 'reasoning_tokens': 0, 'rejected_prediction_tokens': 0}, 'prompt_tokens_details': {'audio_tokens': 0, 'cached_tokens': 0}}, 'model_name': 'gpt-4o-mini-2024-07-18', 'system_fingerprint': 'fp_dbaca60df0', 'id': 'chatcmpl-BO6pwHKtDVGwBBY13Acwj1T596Wyx', 'finish_reason': 'stop', 'logprobs': None}, id='run-f719c8f1-7972-4384-93dd-ee5a88cd4235-0', usage_metadata={'input_tokens': 88, 'output_tokens': 36, 'total_tokens': 124, 'input_token_details': {'audio': 0, 'cache_read': 0}, 'output_token_details': {'audio': 0, 'reasoning': 0}})]}}\n",
      "----\n",
      "{'agent': {'messages': [AIMessage(content='', additional_kwargs={'tool_calls': [{'id': 'call_V6UvuaGYWA8dFKJUxXSVnkeT', 'function': {'arguments': '{\"query\":\"current weather in New Jersey\"}', 'name': 'tavily_search_results_json'}, 'type': 'function'}], 'refusal': None}, response_metadata={'token_usage': {'completion_tokens': 23, 'prompt_tokens': 138, 'total_tokens': 161, 'completion_tokens_details': {'accepted_prediction_tokens': 0, 'audio_tokens': 0, 'reasoning_tokens': 0, 'rejected_prediction_tokens': 0}, 'prompt_tokens_details': {'audio_tokens': 0, 'cached_tokens': 0}}, 'model_name': 'gpt-4o-mini-2024-07-18', 'system_fingerprint': 'fp_dbaca60df0', 'id': 'chatcmpl-BO6pxtwI96jwHVIqXn0tVxXL5I7mv', 'finish_reason': 'tool_calls', 'logprobs': None}, id='run-97f28a74-79f3-4206-aa00-754d1bbdf463-0', tool_calls=[{'name': 'tavily_search_results_json', 'args': {'query': 'current weather in New Jersey'}, 'id': 'call_V6UvuaGYWA8dFKJUxXSVnkeT', 'type': 'tool_call'}], usage_metadata={'input_tokens': 138, 'output_tokens': 23, 'total_tokens': 161, 'input_token_details': {'audio': 0, 'cache_read': 0}, 'output_token_details': {'audio': 0, 'reasoning': 0}})]}}\n",
      "----\n",
      "{'tools': {'messages': [ToolMessage(content='[{\"title\": \"Weather in New Jersey\", \"url\": \"https://www.weatherapi.com/\", \"content\": \"{\\'location\\': {\\'name\\': \\'Jersey City\\', \\'region\\': \\'New Jersey\\', \\'country\\': \\'United States of America\\', \\'lat\\': 40.7281, \\'lon\\': -74.0781, \\'tz_id\\': \\'America/New_York\\', \\'localtime_epoch\\': 1745086110, \\'localtime\\': \\'2025-04-19 14:08\\'}, \\'current\\': {\\'last_updated_epoch\\': 1745085600, \\'last_updated\\': \\'2025-04-19 14:00\\', \\'temp_c\\': 26.1, \\'temp_f\\': 79.0, \\'is_day\\': 1, \\'condition\\': {\\'text\\': \\'Partly cloudy\\', \\'icon\\': \\'//cdn.weatherapi.com/weather/64x64/day/116.png\\', \\'code\\': 1003}, \\'wind_mph\\': 15.7, \\'wind_kph\\': 25.2, \\'wind_degree\\': 244, \\'wind_dir\\': \\'WSW\\', \\'pressure_mb\\': 1015.0, \\'pressure_in\\': 29.96, \\'precip_mm\\': 0.0, \\'precip_in\\': 0.0, \\'humidity\\': 41, \\'cloud\\': 75, \\'feelslike_c\\': 27.0, \\'feelslike_f\\': 80.5, \\'windchill_c\\': 26.1, \\'windchill_f\\': 79.0, \\'heatindex_c\\': 27.2, \\'heatindex_f\\': 81.0, \\'dewpoint_c\\': 15.2, \\'dewpoint_f\\': 59.4, \\'vis_km\\': 16.0, \\'vis_miles\\': 9.0, \\'uv\\': 4.6, \\'gust_mph\\': 20.3, \\'gust_kph\\': 32.7}}\", \"score\": 0.9768631}, {\"title\": \"Weather in Jersey City in April 2025\", \"url\": \"https://world-weather.info/forecast/usa/jersey_city/april-2025/\", \"content\": \"New Jersey · Weather in Jersey City. Weather in Jersey City in April 2025 ... Saturday, 19 April. +63°. Day. +79°. Partly cloudy. Sunday, 20 April. +68°. Day. +66\", \"score\": 0.91288006}]', name='tavily_search_results_json', id='22552d18-5c65-4de3-94bd-ce5a9e7bca85', tool_call_id='call_V6UvuaGYWA8dFKJUxXSVnkeT', artifact={'query': 'current weather in New Jersey', 'follow_up_questions': None, 'answer': None, 'images': [], 'results': [{'title': 'Weather in New Jersey', 'url': 'https://www.weatherapi.com/', 'content': \"{'location': {'name': 'Jersey City', 'region': 'New Jersey', 'country': 'United States of America', 'lat': 40.7281, 'lon': -74.0781, 'tz_id': 'America/New_York', 'localtime_epoch': 1745086110, 'localtime': '2025-04-19 14:08'}, 'current': {'last_updated_epoch': 1745085600, 'last_updated': '2025-04-19 14:00', 'temp_c': 26.1, 'temp_f': 79.0, 'is_day': 1, 'condition': {'text': 'Partly cloudy', 'icon': '//cdn.weatherapi.com/weather/64x64/day/116.png', 'code': 1003}, 'wind_mph': 15.7, 'wind_kph': 25.2, 'wind_degree': 244, 'wind_dir': 'WSW', 'pressure_mb': 1015.0, 'pressure_in': 29.96, 'precip_mm': 0.0, 'precip_in': 0.0, 'humidity': 41, 'cloud': 75, 'feelslike_c': 27.0, 'feelslike_f': 80.5, 'windchill_c': 26.1, 'windchill_f': 79.0, 'heatindex_c': 27.2, 'heatindex_f': 81.0, 'dewpoint_c': 15.2, 'dewpoint_f': 59.4, 'vis_km': 16.0, 'vis_miles': 9.0, 'uv': 4.6, 'gust_mph': 20.3, 'gust_kph': 32.7}}\", 'score': 0.9768631, 'raw_content': None}, {'url': 'https://world-weather.info/forecast/usa/jersey_city/april-2025/', 'title': 'Weather in Jersey City in April 2025', 'content': 'New Jersey · Weather in Jersey City. Weather in Jersey City in April 2025 ... Saturday, 19 April. +63°. Day. +79°. Partly cloudy. Sunday, 20 April. +68°. Day. +66', 'score': 0.91288006, 'raw_content': None}], 'response_time': 1.49})]}}\n",
      "----\n",
      "{'agent': {'messages': [AIMessage(content='Currently, the weather in New Jersey (specifically in Jersey City) is as follows:\\n\\n- **Temperature:** 79°F (26.1°C)\\n- **Condition:** Partly cloudy\\n- **Wind:** 15.7 mph from the west-southwest\\n- **Humidity:** 41%\\n- **Pressure:** 29.96 inHg\\n\\nIt feels like about 80.5°F (27.0°C). Overall, it seems like a nice day!\\n\\nFor more details, you can check [this weather site](https://www.weatherapi.com/).', additional_kwargs={'refusal': None}, response_metadata={'token_usage': {'completion_tokens': 119, 'prompt_tokens': 700, 'total_tokens': 819, 'completion_tokens_details': {'accepted_prediction_tokens': 0, 'audio_tokens': 0, 'reasoning_tokens': 0, 'rejected_prediction_tokens': 0}, 'prompt_tokens_details': {'audio_tokens': 0, 'cached_tokens': 0}}, 'model_name': 'gpt-4o-mini-2024-07-18', 'system_fingerprint': 'fp_dbaca60df0', 'id': 'chatcmpl-BO6q2UrjcSY8hCDgRzFNbtO31B6e8', 'finish_reason': 'stop', 'logprobs': None}, id='run-6cca4937-9dd1-4190-b7be-aed28440641d-0', usage_metadata={'input_tokens': 700, 'output_tokens': 119, 'total_tokens': 819, 'input_token_details': {'audio': 0, 'cache_read': 0}, 'output_token_details': {'audio': 0, 'reasoning': 0}})]}}\n",
      "----\n"
     ]
    }
   ],
   "source": [
    "# Import relevant functionality\n",
    "#from langchain_anthropic import ChatAnthropic\n",
    "from langchain_openai import ChatOpenAI\n",
    "\n",
    "from langchain_community.tools.tavily_search import TavilySearchResults\n",
    "from langchain_core.messages import HumanMessage\n",
    "from langgraph.checkpoint.memory import MemorySaver\n",
    "from langgraph.prebuilt import create_react_agent\n",
    "\n",
    "# Create the agent\n",
    "memory = MemorySaver()\n",
    "\n",
    "#model = ChatAnthropic(model_name=\"claude-3-sonnet-20240229\")\n",
    "model = ChatOpenAI(model=\"gpt-4o-mini\")\n",
    "\n",
    "search = TavilySearchResults(max_results=2, tavily_api_key='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')\n",
    "tools = [search]\n",
    "agent_executor = create_react_agent(model, tools, checkpointer=memory)\n",
    "\n",
    "# Use the agent\n",
    "config = {\"configurable\": {\"thread_id\": \"abc123\"}}\n",
    "for chunk in agent_executor.stream(\n",
    "    {\"messages\": [HumanMessage(content=\"hi im Ryan! and i live in nj\")]}, config\n",
    "):\n",
    "    print(chunk)\n",
    "    print(\"----\")\n",
    "\n",
    "for chunk in agent_executor.stream(\n",
    "    {\"messages\": [HumanMessage(content=\"whats the weather where I live?\")]}, config\n",
    "):\n",
    "    print(chunk)\n",
    "    print(\"----\")"
   ]
  },
  {
   "cell_type": "markdown",
   "id": "f4c03f40-1328-412d-8a48-1db0cd481b77",
   "metadata": {},
   "source": [
    "## Setup\n",
    "\n",
    "### Jupyter Notebook\n",
    "\n",
    "This guide (and most of the other guides in the documentation) uses [Jupyter notebooks](https://jupyter.org/) and assumes the reader is as well. Jupyter notebooks are perfect interactive environments for learning how to work with LLM systems because oftentimes things can go wrong (unexpected output, API down, etc), and observing these cases is a great way to better understand building with LLMs.\n",
    "\n",
    "This and other tutorials are perhaps most conveniently run in a Jupyter notebook. See [here](https://jupyter.org/install) for instructions on how to install.\n",
    "\n",
    "### Installation\n",
    "\n",
    "To install LangChain run:"
   ]
  },
  {
   "cell_type": "code",
   "execution_count": 10,
   "id": "60bb3eb1",
   "metadata": {},
   "outputs": [
    {
     "name": "stdout",
     "output_type": "stream",
     "text": [
      "Requirement already satisfied: langchain-community in ./venv/lib/python3.10/site-packages (0.3.21)\n",
      "Requirement already satisfied: langgraph in ./venv/lib/python3.10/site-packages (0.3.31)\n",
      "Requirement already satisfied: langchain-openai in ./venv/lib/python3.10/site-packages (0.3.14)\n",
      "Requirement already satisfied: tavily-python in ./venv/lib/python3.10/site-packages (0.5.4)\n",
      "Requirement already satisfied: langgraph-checkpoint-sqlite in ./venv/lib/python3.10/site-packages (2.0.6)\n",
      "Requirement already satisfied: langchain-core<1.0.0,>=0.3.51 in ./venv/lib/python3.10/site-packages (from langchain-community) (0.3.54)\n",
      "Requirement already satisfied: langchain<1.0.0,>=0.3.23 in ./venv/lib/python3.10/site-packages (from langchain-community) (0.3.23)\n",
      "Requirement already satisfied: SQLAlchemy<3,>=1.4 in ./venv/lib/python3.10/site-packages (from langchain-community) (2.0.40)\n",
      "Requirement already satisfied: requests<3,>=2 in ./venv/lib/python3.10/site-packages (from langchain-community) (2.32.3)\n",
      "Requirement already satisfied: PyYAML>=5.3 in ./venv/lib/python3.10/site-packages (from langchain-community) (6.0.2)\n",
      "Requirement already satisfied: aiohttp<4.0.0,>=3.8.3 in ./venv/lib/python3.10/site-packages (from langchain-community) (3.11.16)\n",
      "Requirement already satisfied: tenacity!=8.4.0,<10,>=8.1.0 in ./venv/lib/python3.10/site-packages (from langchain-community) (9.1.2)\n",
      "Requirement already satisfied: dataclasses-json<0.7,>=0.5.7 in ./venv/lib/python3.10/site-packages (from langchain-community) (0.6.7)\n",
      "Requirement already satisfied: pydantic-settings<3.0.0,>=2.4.0 in ./venv/lib/python3.10/site-packages (from langchain-community) (2.9.1)\n",
      "Requirement already satisfied: langsmith<0.4,>=0.1.125 in ./venv/lib/python3.10/site-packages (from langchain-community) (0.3.23)\n",
      "Requirement already satisfied: httpx-sse<1.0.0,>=0.4.0 in ./venv/lib/python3.10/site-packages (from langchain-community) (0.4.0)\n",
      "Requirement already satisfied: numpy<3,>=1.26.2 in ./venv/lib/python3.10/site-packages (from langchain-community) (2.2.4)\n",
      "Requirement already satisfied: langgraph-checkpoint<3.0.0,>=2.0.10 in ./venv/lib/python3.10/site-packages (from langgraph) (2.0.24)\n",
      "Requirement already satisfied: langgraph-prebuilt<0.2,>=0.1.8 in ./venv/lib/python3.10/site-packages (from langgraph) (0.1.8)\n",
      "Requirement already satisfied: langgraph-sdk<0.2.0,>=0.1.42 in ./venv/lib/python3.10/site-packages (from langgraph) (0.1.61)\n",
      "Requirement already satisfied: xxhash<4.0.0,>=3.5.0 in ./venv/lib/python3.10/site-packages (from langgraph) (3.5.0)\n",
      "Requirement already satisfied: openai<2.0.0,>=1.68.2 in ./venv/lib/python3.10/site-packages (from langchain-openai) (1.70.0)\n",
      "Requirement already satisfied: tiktoken<1,>=0.7 in ./venv/lib/python3.10/site-packages (from langchain-openai) (0.9.0)\n",
      "Requirement already satisfied: httpx in ./venv/lib/python3.10/site-packages (from tavily-python) (0.28.1)\n",
      "Requirement already satisfied: aiosqlite<0.22,>=0.20 in ./venv/lib/python3.10/site-packages (from langgraph-checkpoint-sqlite) (0.21.0)\n",
      "Requirement already satisfied: aiohappyeyeballs>=2.3.0 in ./venv/lib/python3.10/site-packages (from aiohttp<4.0.0,>=3.8.3->langchain-community) (2.6.1)\n",
      "Requirement already satisfied: aiosignal>=1.1.2 in ./venv/lib/python3.10/site-packages (from aiohttp<4.0.0,>=3.8.3->langchain-community) (1.3.2)\n",
      "Requirement already satisfied: async-timeout<6.0,>=4.0 in ./venv/lib/python3.10/site-packages (from aiohttp<4.0.0,>=3.8.3->langchain-community) (4.0.3)\n",
      "Requirement already satisfied: attrs>=17.3.0 in ./venv/lib/python3.10/site-packages (from aiohttp<4.0.0,>=3.8.3->langchain-community) (25.3.0)\n",
      "Requirement already satisfied: frozenlist>=1.1.1 in ./venv/lib/python3.10/site-packages (from aiohttp<4.0.0,>=3.8.3->langchain-community) (1.6.0)\n",
      "Requirement already satisfied: multidict<7.0,>=4.5 in ./venv/lib/python3.10/site-packages (from aiohttp<4.0.0,>=3.8.3->langchain-community) (6.4.3)\n",
      "Requirement already satisfied: propcache>=0.2.0 in ./venv/lib/python3.10/site-packages (from aiohttp<4.0.0,>=3.8.3->langchain-community) (0.3.1)\n",
      "Requirement already satisfied: yarl<2.0,>=1.17.0 in ./venv/lib/python3.10/site-packages (from aiohttp<4.0.0,>=3.8.3->langchain-community) (1.20.0)\n",
      "Requirement already satisfied: typing_extensions>=4.0 in ./venv/lib/python3.10/site-packages (from aiosqlite<0.22,>=0.20->langgraph-checkpoint-sqlite) (4.13.1)\n",
      "Requirement already satisfied: marshmallow<4.0.0,>=3.18.0 in ./venv/lib/python3.10/site-packages (from dataclasses-json<0.7,>=0.5.7->langchain-community) (3.26.1)\n",
      "Requirement already satisfied: typing-inspect<1,>=0.4.0 in ./venv/lib/python3.10/site-packages (from dataclasses-json<0.7,>=0.5.7->langchain-community) (0.9.0)\n",
      "Requirement already satisfied: langchain-text-splitters<1.0.0,>=0.3.8 in ./venv/lib/python3.10/site-packages (from langchain<1.0.0,>=0.3.23->langchain-community) (0.3.8)\n",
      "Requirement already satisfied: pydantic<3.0.0,>=2.7.4 in ./venv/lib/python3.10/site-packages (from langchain<1.0.0,>=0.3.23->langchain-community) (2.11.2)\n",
      "Requirement already satisfied: jsonpatch<2.0,>=1.33 in ./venv/lib/python3.10/site-packages (from langchain-core<1.0.0,>=0.3.51->langchain-community) (1.33)\n",
      "Requirement already satisfied: packaging<25,>=23.2 in ./venv/lib/python3.10/site-packages (from langchain-core<1.0.0,>=0.3.51->langchain-community) (24.2)\n",
      "Requirement already satisfied: ormsgpack<2.0.0,>=1.8.0 in ./venv/lib/python3.10/site-packages (from langgraph-checkpoint<3.0.0,>=2.0.10->langgraph) (1.9.1)\n",
      "Requirement already satisfied: orjson>=3.10.1 in ./venv/lib/python3.10/site-packages (from langgraph-sdk<0.2.0,>=0.1.42->langgraph) (3.10.16)\n",
      "Requirement already satisfied: anyio in ./venv/lib/python3.10/site-packages (from httpx->tavily-python) (4.9.0)\n",
      "Requirement already satisfied: certifi in ./venv/lib/python3.10/site-packages (from httpx->tavily-python) (2025.1.31)\n",
      "Requirement already satisfied: httpcore==1.* in ./venv/lib/python3.10/site-packages (from httpx->tavily-python) (1.0.7)\n",
      "Requirement already satisfied: idna in ./venv/lib/python3.10/site-packages (from httpx->tavily-python) (3.10)\n",
      "Requirement already satisfied: h11<0.15,>=0.13 in ./venv/lib/python3.10/site-packages (from httpcore==1.*->httpx->tavily-python) (0.14.0)\n",
      "Requirement already satisfied: requests-toolbelt<2.0.0,>=1.0.0 in ./venv/lib/python3.10/site-packages (from langsmith<0.4,>=0.1.125->langchain-community) (1.0.0)\n",
      "Requirement already satisfied: zstandard<0.24.0,>=0.23.0 in ./venv/lib/python3.10/site-packages (from langsmith<0.4,>=0.1.125->langchain-community) (0.23.0)\n",
      "Requirement already satisfied: distro<2,>=1.7.0 in ./venv/lib/python3.10/site-packages (from openai<2.0.0,>=1.68.2->langchain-openai) (1.9.0)\n",
      "Requirement already satisfied: jiter<1,>=0.4.0 in ./venv/lib/python3.10/site-packages (from openai<2.0.0,>=1.68.2->langchain-openai) (0.9.0)\n",
      "Requirement already satisfied: sniffio in ./venv/lib/python3.10/site-packages (from openai<2.0.0,>=1.68.2->langchain-openai) (1.3.1)\n",
      "Requirement already satisfied: tqdm>4 in ./venv/lib/python3.10/site-packages (from openai<2.0.0,>=1.68.2->langchain-openai) (4.67.1)\n",
      "Requirement already satisfied: python-dotenv>=0.21.0 in ./venv/lib/python3.10/site-packages (from pydantic-settings<3.0.0,>=2.4.0->langchain-community) (1.1.0)\n",
      "Requirement already satisfied: typing-inspection>=0.4.0 in ./venv/lib/python3.10/site-packages (from pydantic-settings<3.0.0,>=2.4.0->langchain-community) (0.4.0)\n",
      "Requirement already satisfied: charset-normalizer<4,>=2 in ./venv/lib/python3.10/site-packages (from requests<3,>=2->langchain-community) (3.4.1)\n",
      "Requirement already satisfied: urllib3<3,>=1.21.1 in ./venv/lib/python3.10/site-packages (from requests<3,>=2->langchain-community) (2.3.0)\n",
      "Requirement already satisfied: greenlet>=1 in ./venv/lib/python3.10/site-packages (from SQLAlchemy<3,>=1.4->langchain-community) (3.1.1)\n",
      "Requirement already satisfied: regex>=2022.1.18 in ./venv/lib/python3.10/site-packages (from tiktoken<1,>=0.7->langchain-openai) (2024.11.6)\n",
      "Requirement already satisfied: exceptiongroup>=1.0.2 in ./venv/lib/python3.10/site-packages (from anyio->httpx->tavily-python) (1.2.2)\n",
      "Requirement already satisfied: jsonpointer>=1.9 in ./venv/lib/python3.10/site-packages (from jsonpatch<2.0,>=1.33->langchain-core<1.0.0,>=0.3.51->langchain-community) (3.0.0)\n",
      "Requirement already satisfied: annotated-types>=0.6.0 in ./venv/lib/python3.10/site-packages (from pydantic<3.0.0,>=2.7.4->langchain<1.0.0,>=0.3.23->langchain-community) (0.7.0)\n",
      "Requirement already satisfied: pydantic-core==2.33.1 in ./venv/lib/python3.10/site-packages (from pydantic<3.0.0,>=2.7.4->langchain<1.0.0,>=0.3.23->langchain-community) (2.33.1)\n",
      "Requirement already satisfied: mypy-extensions>=0.3.0 in ./venv/lib/python3.10/site-packages (from typing-inspect<1,>=0.4.0->dataclasses-json<0.7,>=0.5.7->langchain-community) (1.0.0)\n",
      "Note: you may need to restart the kernel to use updated packages.\n"
     ]
    }
   ],
   "source": [
    "%pip install -U langchain-community langgraph langchain-openai tavily-python langgraph-checkpoint-sqlite"
   ]
  },
  {
   "cell_type": "markdown",
   "id": "2ee337ae",
   "metadata": {},
   "source": [
    "For more details, see our [Installation guide](/docs/how_to/installation).\n",
    "\n",
    "### LangSmith\n",
    "\n",
    "Many of the applications you build with LangChain will contain multiple steps with multiple invocations of LLM calls.\n",
    "As these applications get more and more complex, it becomes crucial to be able to inspect what exactly is going on inside your chain or agent.\n",
    "The best way to do this is with [LangSmith](https://smith.langchain.com).\n",
    "\n",
    "After you sign up at the link above, make sure to set your environment variables to start logging traces:\n",
    "\n",
    "```shell\n",
    "export LANGCHAIN_TRACING_V2=\"true\"\n",
    "export LANGCHAIN_API_KEY=\"...\"\n",
    "```\n",
    "\n",
    "Or, if in a notebook, you can set them with:\n",
    "\n",
    "```python\n",
    "import getpass\n",
    "import os\n",
    "\n",
    "os.environ[\"LANGCHAIN_TRACING_V2\"] = \"true\"\n",
    "os.environ[\"LANGCHAIN_API_KEY\"] = getpass.getpass()\n",
    "```\n",
    "\n",
    "### Tavily\n",
    "\n",
    "We will be using [Tavily](/docs/integrations/tools/tavily_search) (a search engine) as a tool.\n",
    "In order to use it, you will need to get and set an API key:\n",
    "\n",
    "```bash\n",
    "export TAVILY_API_KEY=\"...\"\n",
    "```\n",
    "\n",
    "Or, if in a notebook, you can set it with:\n",
    "\n",
    "```python\n",
    "import getpass\n",
    "import os\n",
    "\n",
    "os.environ[\"TAVILY_API_KEY\"] = getpass.getpass()\n",
    "```"
   ]
  },
  {
   "cell_type": "markdown",
   "id": "c335d1bf",
   "metadata": {},
   "source": [
    "## Define tools\n",
    "\n",
    "We first need to create the tools we want to use. Our main tool of choice will be [Tavily](/docs/integrations/tools/tavily_search) - a search engine. We have a built-in tool in LangChain to easily use Tavily search engine as tool.\n"
   ]
  },
  {
   "cell_type": "code",
   "execution_count": 11,
   "id": "482ce13d",
   "metadata": {},
   "outputs": [
    {
     "name": "stdout",
     "output_type": "stream",
     "text": [
      "[{'title': 'Weather in NJ', 'url': 'https://www.weatherapi.com/', 'content': \"{'error': {'code': 1006, 'message': 'No matching location found.'}}\", 'score': 0.9941009}, {'title': 'Saturday, April 19, 2025. Jersey City, NJ - Weather Forecast', 'url': 'https://weathershogun.com/weather/usa/nj/jersey-city/3055/april/2025-04-19', 'content': 'Jersey City, New Jersey Weather: Saturday, April 19, 2025. Cloudy weather, overcast skies with clouds. Day 63°. Night 46°. Precipitation 1 %.', 'score': 0.95508945}]\n"
     ]
    }
   ],
   "source": [
    "from langchain_community.tools.tavily_search import TavilySearchResults\n",
    "\n",
    "search = TavilySearchResults(max_results=2, tavily_api_key='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')\n",
    "search_results = search.invoke(\"what is the weather in NJ\")\n",
    "print(search_results)\n",
    "# If we want, we can create other tools.\n",
    "# Once we have all the tools we want, we can put them in a list that we will reference later.\n",
    "tools = [search]"
   ]
  },
  {
   "cell_type": "markdown",
   "id": "e00068b0",
   "metadata": {},
   "source": [
    "## Using Language Models\n",
    "\n",
    "Next, let's learn how to use a language model by to call tools. LangChain supports many different language models that you can use interchangably - select the one you want to use below!\n",
    "\n",
    "import ChatModelTabs from \"@theme/ChatModelTabs\";\n",
    "\n",
    "<ChatModelTabs openaiParams={`model=\"gpt-4\"`} />\n"
   ]
  },
  {
   "cell_type": "code",
   "execution_count": 12,
   "id": "69185491",
   "metadata": {},
   "outputs": [],
   "source": [
    "# | output: false\n",
    "# | echo: false\n",
    "\n",
    "#from langchain_anthropic import ChatAnthropic\n",
    "#model = ChatAnthropic(model=\"claude-3-sonnet-20240229\")\n",
    "\n",
    "from langchain_openai import ChatOpenAI\n",
    "model = ChatOpenAI(model=\"gpt-4o-mini\")\n"
   ]
  },
  {
   "cell_type": "markdown",
   "id": "642ed8bf",
   "metadata": {},
   "source": [
    "You can call the language model by passing in a list of messages. By default, the response is a `content` string."
   ]
  },
  {
   "cell_type": "code",
   "execution_count": 13,
   "id": "c96c960b",
   "metadata": {},
   "outputs": [
    {
     "data": {
      "text/plain": [
       "'Hello! How can I assist you today?'"
      ]
     },
     "execution_count": 13,
     "metadata": {},
     "output_type": "execute_result"
    }
   ],
   "source": [
    "from langchain_core.messages import HumanMessage\n",
    "\n",
    "response = model.invoke([HumanMessage(content=\"hi!\")])\n",
    "response.content"
   ]
  },
  {
   "cell_type": "markdown",
   "id": "47bf8210",
   "metadata": {},
   "source": [
    "We can now see what it is like to enable this model to do tool calling. In order to enable that we use `.bind_tools` to give the language model knowledge of these tools"
   ]
  },
  {
   "cell_type": "code",
   "execution_count": 14,
   "id": "ba692a74",
   "metadata": {},
   "outputs": [],
   "source": [
    "model_with_tools = model.bind_tools(tools)"
   ]
  },
  {
   "cell_type": "markdown",
   "id": "fd920b69",
   "metadata": {},
   "source": [
    "We can now call the model. Let's first call it with a normal message, and see how it responds. We can look at both the `content` field as well as the `tool_calls` field."
   ]
  },
  {
   "cell_type": "code",
   "execution_count": 15,
   "id": "b6a7e925",
   "metadata": {},
   "outputs": [
    {
     "name": "stdout",
     "output_type": "stream",
     "text": [
      "ContentString: Hello! How can I assist you today?\n",
      "ToolCalls: []\n"
     ]
    }
   ],
   "source": [
    "response = model_with_tools.invoke([HumanMessage(content=\"Hi!\")])\n",
    "\n",
    "print(f\"ContentString: {response.content}\")\n",
    "print(f\"ToolCalls: {response.tool_calls}\")"
   ]
  },
  {
   "cell_type": "markdown",
   "id": "e8c81e76",
   "metadata": {},
   "source": [
    "Now, let's try calling it with some input that would expect a tool to be called."
   ]
  },
  {
   "cell_type": "code",
   "execution_count": 16,
   "id": "688b465d",
   "metadata": {},
   "outputs": [
    {
     "name": "stdout",
     "output_type": "stream",
     "text": [
      "ContentString: \n",
      "ToolCalls: [{'name': 'tavily_search_results_json', 'args': {'query': 'current weather in San Francisco'}, 'id': 'call_D5Xv9dSEQXm9UwqAKtHDTGhF', 'type': 'tool_call'}]\n"
     ]
    }
   ],
   "source": [
    "response = model_with_tools.invoke([HumanMessage(content=\"What's the weather in SF?\")])\n",
    "\n",
    "print(f\"ContentString: {response.content}\")\n",
    "print(f\"ToolCalls: {response.tool_calls}\")"
   ]
  },
  {
   "cell_type": "markdown",
   "id": "83c4bcd3",
   "metadata": {},
   "source": [
    "We can see that there's now no text content, but there is a tool call! It wants us to call the Tavily Search tool.\n",
    "\n",
    "This isn't calling that tool yet - it's just telling us to. In order to actually call it, we'll want to create our agent."
   ]
  },
  {
   "cell_type": "markdown",
   "id": "40ccec80",
   "metadata": {},
   "source": [
    "## Create the agent\n",
    "\n",
    "Now that we have defined the tools and the LLM, we can create the agent. We will be using [LangGraph](/docs/concepts/architecture/#langgraph) to construct the agent. \n",
    "Currently, we are using a high level interface to construct the agent, but the nice thing about LangGraph is that this high-level interface is backed by a low-level, highly controllable API in case you want to modify the agent logic.\n"
   ]
  },
  {
   "cell_type": "markdown",
   "id": "f8014c9d",
   "metadata": {},
   "source": [
    "Now, we can initialize the agent with the LLM and the tools.\n",
    "\n",
    "Note that we are passing in the `model`, not `model_with_tools`. That is because `create_react_agent` will call `.bind_tools` for us under the hood."
   ]
  },
  {
   "cell_type": "code",
   "execution_count": 17,
   "id": "89cf72b4-6046-4b47-8f27-5522d8cb8036",
   "metadata": {},
   "outputs": [],
   "source": [
    "from langgraph.prebuilt import create_react_agent\n",
    "\n",
    "agent_executor = create_react_agent(model, tools)"
   ]
  },
  {
   "cell_type": "markdown",
   "id": "e4df0e06",
   "metadata": {},
   "source": [
    "## Run the agent\n",
    "\n",
    "We can now run the agent with a few queries! Note that for now, these are all **stateless** queries (it won't remember previous interactions). Note that the agent will return the **final** state at the end of the interaction (which includes any inputs, we will see later on how to get only the outputs).\n",
    "\n",
    "First up, let's see how it responds when there's no need to call a tool:"
   ]
  },
  {
   "cell_type": "code",
   "execution_count": 18,
   "id": "114ba50d",
   "metadata": {},
   "outputs": [
    {
     "data": {
      "text/plain": [
       "[HumanMessage(content='hi!', additional_kwargs={}, response_metadata={}, id='377bab40-73b9-4c63-9300-f9fb2c7f5153'),\n",
       " AIMessage(content='Hello! How can I assist you today?', additional_kwargs={'refusal': None}, response_metadata={'token_usage': {'completion_tokens': 11, 'prompt_tokens': 81, 'total_tokens': 92, 'completion_tokens_details': {'accepted_prediction_tokens': 0, 'audio_tokens': 0, 'reasoning_tokens': 0, 'rejected_prediction_tokens': 0}, 'prompt_tokens_details': {'audio_tokens': 0, 'cached_tokens': 0}}, 'model_name': 'gpt-4o-mini-2024-07-18', 'system_fingerprint': 'fp_dbaca60df0', 'id': 'chatcmpl-BO6qECZQNkdwn9UQZt3tJbZD88Jec', 'finish_reason': 'stop', 'logprobs': None}, id='run-f5809583-8fbe-468b-9970-6cdad897438f-0', usage_metadata={'input_tokens': 81, 'output_tokens': 11, 'total_tokens': 92, 'input_token_details': {'audio': 0, 'cache_read': 0}, 'output_token_details': {'audio': 0, 'reasoning': 0}})]"
      ]
     },
     "execution_count": 18,
     "metadata": {},
     "output_type": "execute_result"
    }
   ],
   "source": [
    "response = agent_executor.invoke({\"messages\": [HumanMessage(content=\"hi!\")]})\n",
    "\n",
    "response[\"messages\"]"
   ]
  },
  {
   "cell_type": "markdown",
   "id": "71493a42",
   "metadata": {},
   "source": [
    "In order to see exactly what is happening under the hood (and to make sure it's not calling a tool) we can take a look at the [LangSmith trace](https://smith.langchain.com/public/28311faa-e135-4d6a-ab6b-caecf6482aaa/r)\n",
    "\n",
    "Let's now try it out on an example where it should be invoking the tool"
   ]
  },
  {
   "cell_type": "code",
   "execution_count": 19,
   "id": "77c2f769",
   "metadata": {},
   "outputs": [
    {
     "data": {
      "text/plain": [
       "[HumanMessage(content='whats the weather in sf?', additional_kwargs={}, response_metadata={}, id='e6de865b-1f01-429d-9488-3c07cf326691'),\n",
       " AIMessage(content='', additional_kwargs={'tool_calls': [{'id': 'call_ZFLR9QaUROj6QaIpgtQHxf31', 'function': {'arguments': '{\"query\":\"current weather San Francisco\"}', 'name': 'tavily_search_results_json'}, 'type': 'function'}], 'refusal': None}, response_metadata={'token_usage': {'completion_tokens': 22, 'prompt_tokens': 86, 'total_tokens': 108, 'completion_tokens_details': {'accepted_prediction_tokens': 0, 'audio_tokens': 0, 'reasoning_tokens': 0, 'rejected_prediction_tokens': 0}, 'prompt_tokens_details': {'audio_tokens': 0, 'cached_tokens': 0}}, 'model_name': 'gpt-4o-mini-2024-07-18', 'system_fingerprint': 'fp_dbaca60df0', 'id': 'chatcmpl-BO6qFuwMOegQHYBoSj6VPgTfqZdIo', 'finish_reason': 'tool_calls', 'logprobs': None}, id='run-c2ec071b-10ac-499a-a813-924a9a5290c2-0', tool_calls=[{'name': 'tavily_search_results_json', 'args': {'query': 'current weather San Francisco'}, 'id': 'call_ZFLR9QaUROj6QaIpgtQHxf31', 'type': 'tool_call'}], usage_metadata={'input_tokens': 86, 'output_tokens': 22, 'total_tokens': 108, 'input_token_details': {'audio': 0, 'cache_read': 0}, 'output_token_details': {'audio': 0, 'reasoning': 0}}),\n",
       " ToolMessage(content='[{\"title\": \"Weather in San Francisco\", \"url\": \"https://www.weatherapi.com/\", \"content\": \"{\\'location\\': {\\'name\\': \\'San Francisco\\', \\'region\\': \\'California\\', \\'country\\': \\'United States of America\\', \\'lat\\': 37.775, \\'lon\\': -122.4183, \\'tz_id\\': \\'America/Los_Angeles\\', \\'localtime_epoch\\': 1745085866, \\'localtime\\': \\'2025-04-19 11:04\\'}, \\'current\\': {\\'last_updated_epoch\\': 1745085600, \\'last_updated\\': \\'2025-04-19 11:00\\', \\'temp_c\\': 12.2, \\'temp_f\\': 54.0, \\'is_day\\': 1, \\'condition\\': {\\'text\\': \\'Overcast\\', \\'icon\\': \\'//cdn.weatherapi.com/weather/64x64/day/122.png\\', \\'code\\': 1009}, \\'wind_mph\\': 8.3, \\'wind_kph\\': 13.3, \\'wind_degree\\': 221, \\'wind_dir\\': \\'SW\\', \\'pressure_mb\\': 1021.0, \\'pressure_in\\': 30.16, \\'precip_mm\\': 0.0, \\'precip_in\\': 0.0, \\'humidity\\': 77, \\'cloud\\': 100, \\'feelslike_c\\': 10.8, \\'feelslike_f\\': 51.5, \\'windchill_c\\': 9.3, \\'windchill_f\\': 48.7, \\'heatindex_c\\': 10.5, \\'heatindex_f\\': 51.0, \\'dewpoint_c\\': 10.0, \\'dewpoint_f\\': 50.0, \\'vis_km\\': 16.0, \\'vis_miles\\': 9.0, \\'uv\\': 5.5, \\'gust_mph\\': 9.6, \\'gust_kph\\': 15.4}}\", \"score\": 0.9947035}, {\"title\": \"Saturday, April 19, 2025. San Francisco, CA - Weather Forecast\", \"url\": \"https://weathershogun.com/weather/usa/ca/san-francisco/480/april/2025-04-19\", \"content\": \"San Francisco, California Weather: Saturday, April 19, 2025. Sunny weather, clear skies and sunny weather. Day 64°. Night 52°.\", \"score\": 0.93952066}]', name='tavily_search_results_json', id='021b73e7-723f-494e-9bd6-0fda9e1815d3', tool_call_id='call_ZFLR9QaUROj6QaIpgtQHxf31', artifact={'query': 'current weather San Francisco', 'follow_up_questions': None, 'answer': None, 'images': [], 'results': [{'title': 'Weather in San Francisco', 'url': 'https://www.weatherapi.com/', 'content': \"{'location': {'name': 'San Francisco', 'region': 'California', 'country': 'United States of America', 'lat': 37.775, 'lon': -122.4183, 'tz_id': 'America/Los_Angeles', 'localtime_epoch': 1745085866, 'localtime': '2025-04-19 11:04'}, 'current': {'last_updated_epoch': 1745085600, 'last_updated': '2025-04-19 11:00', 'temp_c': 12.2, 'temp_f': 54.0, 'is_day': 1, 'condition': {'text': 'Overcast', 'icon': '//cdn.weatherapi.com/weather/64x64/day/122.png', 'code': 1009}, 'wind_mph': 8.3, 'wind_kph': 13.3, 'wind_degree': 221, 'wind_dir': 'SW', 'pressure_mb': 1021.0, 'pressure_in': 30.16, 'precip_mm': 0.0, 'precip_in': 0.0, 'humidity': 77, 'cloud': 100, 'feelslike_c': 10.8, 'feelslike_f': 51.5, 'windchill_c': 9.3, 'windchill_f': 48.7, 'heatindex_c': 10.5, 'heatindex_f': 51.0, 'dewpoint_c': 10.0, 'dewpoint_f': 50.0, 'vis_km': 16.0, 'vis_miles': 9.0, 'uv': 5.5, 'gust_mph': 9.6, 'gust_kph': 15.4}}\", 'score': 0.9947035, 'raw_content': None}, {'url': 'https://weathershogun.com/weather/usa/ca/san-francisco/480/april/2025-04-19', 'title': 'Saturday, April 19, 2025. San Francisco, CA - Weather Forecast', 'content': 'San Francisco, California Weather: Saturday, April 19, 2025. Sunny weather, clear skies and sunny weather. Day 64°. Night 52°.', 'score': 0.93952066, 'raw_content': None}], 'response_time': 1.76}),\n",
       " AIMessage(content='The current weather in San Francisco is as follows:\\n\\n- **Temperature**: 12.2°C (54.0°F)\\n- **Condition**: Overcast\\n- **Wind Speed**: 8.3 mph (13.3 kph) from the southwest\\n- **Humidity**: 77%\\n- **Visibility**: 16 km (9.0 miles)\\n- **Pressure**: 30.16 in (1021.0 mb)\\n\\nFor more details, you can check out the weather at [WeatherAPI](https://www.weatherapi.com/).', additional_kwargs={'refusal': None}, response_metadata={'token_usage': {'completion_tokens': 120, 'prompt_tokens': 645, 'total_tokens': 765, 'completion_tokens_details': {'accepted_prediction_tokens': 0, 'audio_tokens': 0, 'reasoning_tokens': 0, 'rejected_prediction_tokens': 0}, 'prompt_tokens_details': {'audio_tokens': 0, 'cached_tokens': 0}}, 'model_name': 'gpt-4o-mini-2024-07-18', 'system_fingerprint': 'fp_dbaca60df0', 'id': 'chatcmpl-BO6qJSOz8liAvBx5AJAz0cTQTUwQE', 'finish_reason': 'stop', 'logprobs': None}, id='run-60a9bc94-6e67-4f6e-bc3b-97685ac502b2-0', usage_metadata={'input_tokens': 645, 'output_tokens': 120, 'total_tokens': 765, 'input_token_details': {'audio': 0, 'cache_read': 0}, 'output_token_details': {'audio': 0, 'reasoning': 0}})]"
      ]
     },
     "execution_count": 19,
     "metadata": {},
     "output_type": "execute_result"
    }
   ],
   "source": [
    "response = agent_executor.invoke(\n",
    "    {\"messages\": [HumanMessage(content=\"whats the weather in nj?\")]}\n",
    ")\n",
    "response[\"messages\"]"
   ]
  },
  {
   "cell_type": "markdown",
   "id": "c174f838",
   "metadata": {},
   "source": [
    "We can check out the [LangSmith trace](https://smith.langchain.com/public/f520839d-cd4d-4495-8764-e32b548e235d/r) to make sure it's calling the search tool effectively."
   ]
  },
  {
   "cell_type": "markdown",
   "id": "8f6ca7e4",
   "metadata": {},
   "source": [
    "## Streaming Messages\n",
    "\n",
    "We've seen how the agent can be called with `.invoke` to get  a final response. If the agent executes multiple steps, this may take a while. To show intermediate progress, we can stream back messages as they occur."
   ]
  },
  {
   "cell_type": "code",
   "execution_count": 20,
   "id": "532d6557",
   "metadata": {},
   "outputs": [
    {
     "name": "stdout",
     "output_type": "stream",
     "text": [
      "{'agent': {'messages': [AIMessage(content='', additional_kwargs={'tool_calls': [{'id': 'call_PjQIgxBBNI9pxznuOSBOe4UR', 'function': {'arguments': '{\"query\":\"current weather San Francisco\"}', 'name': 'tavily_search_results_json'}, 'type': 'function'}], 'refusal': None}, response_metadata={'token_usage': {'completion_tokens': 22, 'prompt_tokens': 86, 'total_tokens': 108, 'completion_tokens_details': {'accepted_prediction_tokens': 0, 'audio_tokens': 0, 'reasoning_tokens': 0, 'rejected_prediction_tokens': 0}, 'prompt_tokens_details': {'audio_tokens': 0, 'cached_tokens': 0}}, 'model_name': 'gpt-4o-mini-2024-07-18', 'system_fingerprint': 'fp_dbaca60df0', 'id': 'chatcmpl-BO6qLDQhaTOrcCgO4UHrmOGNxDYcM', 'finish_reason': 'tool_calls', 'logprobs': None}, id='run-ad9cc819-56ef-4e30-84c0-ce39d2763c0d-0', tool_calls=[{'name': 'tavily_search_results_json', 'args': {'query': 'current weather San Francisco'}, 'id': 'call_PjQIgxBBNI9pxznuOSBOe4UR', 'type': 'tool_call'}], usage_metadata={'input_tokens': 86, 'output_tokens': 22, 'total_tokens': 108, 'input_token_details': {'audio': 0, 'cache_read': 0}, 'output_token_details': {'audio': 0, 'reasoning': 0}})]}}\n",
      "----\n",
      "{'tools': {'messages': [ToolMessage(content='[{\"title\": \"Weather in San Francisco\", \"url\": \"https://www.weatherapi.com/\", \"content\": \"{\\'location\\': {\\'name\\': \\'San Francisco\\', \\'region\\': \\'California\\', \\'country\\': \\'United States of America\\', \\'lat\\': 37.775, \\'lon\\': -122.4183, \\'tz_id\\': \\'America/Los_Angeles\\', \\'localtime_epoch\\': 1745085866, \\'localtime\\': \\'2025-04-19 11:04\\'}, \\'current\\': {\\'last_updated_epoch\\': 1745085600, \\'last_updated\\': \\'2025-04-19 11:00\\', \\'temp_c\\': 12.2, \\'temp_f\\': 54.0, \\'is_day\\': 1, \\'condition\\': {\\'text\\': \\'Overcast\\', \\'icon\\': \\'//cdn.weatherapi.com/weather/64x64/day/122.png\\', \\'code\\': 1009}, \\'wind_mph\\': 8.3, \\'wind_kph\\': 13.3, \\'wind_degree\\': 221, \\'wind_dir\\': \\'SW\\', \\'pressure_mb\\': 1021.0, \\'pressure_in\\': 30.16, \\'precip_mm\\': 0.0, \\'precip_in\\': 0.0, \\'humidity\\': 77, \\'cloud\\': 100, \\'feelslike_c\\': 10.8, \\'feelslike_f\\': 51.5, \\'windchill_c\\': 9.3, \\'windchill_f\\': 48.7, \\'heatindex_c\\': 10.5, \\'heatindex_f\\': 51.0, \\'dewpoint_c\\': 10.0, \\'dewpoint_f\\': 50.0, \\'vis_km\\': 16.0, \\'vis_miles\\': 9.0, \\'uv\\': 5.5, \\'gust_mph\\': 9.6, \\'gust_kph\\': 15.4}}\", \"score\": 0.9947035}, {\"title\": \"Saturday, April 19, 2025. San Francisco, CA - Weather Forecast\", \"url\": \"https://weathershogun.com/weather/usa/ca/san-francisco/480/april/2025-04-19\", \"content\": \"San Francisco, California Weather: Saturday, April 19, 2025. Sunny weather, clear skies and sunny weather. Day 64°. Night 52°.\", \"score\": 0.93952066}]', name='tavily_search_results_json', id='c177472d-b1a0-4973-b1d1-a4969656e6d2', tool_call_id='call_PjQIgxBBNI9pxznuOSBOe4UR', artifact={'query': 'current weather San Francisco', 'follow_up_questions': None, 'answer': None, 'images': [], 'results': [{'title': 'Weather in San Francisco', 'url': 'https://www.weatherapi.com/', 'content': \"{'location': {'name': 'San Francisco', 'region': 'California', 'country': 'United States of America', 'lat': 37.775, 'lon': -122.4183, 'tz_id': 'America/Los_Angeles', 'localtime_epoch': 1745085866, 'localtime': '2025-04-19 11:04'}, 'current': {'last_updated_epoch': 1745085600, 'last_updated': '2025-04-19 11:00', 'temp_c': 12.2, 'temp_f': 54.0, 'is_day': 1, 'condition': {'text': 'Overcast', 'icon': '//cdn.weatherapi.com/weather/64x64/day/122.png', 'code': 1009}, 'wind_mph': 8.3, 'wind_kph': 13.3, 'wind_degree': 221, 'wind_dir': 'SW', 'pressure_mb': 1021.0, 'pressure_in': 30.16, 'precip_mm': 0.0, 'precip_in': 0.0, 'humidity': 77, 'cloud': 100, 'feelslike_c': 10.8, 'feelslike_f': 51.5, 'windchill_c': 9.3, 'windchill_f': 48.7, 'heatindex_c': 10.5, 'heatindex_f': 51.0, 'dewpoint_c': 10.0, 'dewpoint_f': 50.0, 'vis_km': 16.0, 'vis_miles': 9.0, 'uv': 5.5, 'gust_mph': 9.6, 'gust_kph': 15.4}}\", 'score': 0.9947035, 'raw_content': None}, {'url': 'https://weathershogun.com/weather/usa/ca/san-francisco/480/april/2025-04-19', 'title': 'Saturday, April 19, 2025. San Francisco, CA - Weather Forecast', 'content': 'San Francisco, California Weather: Saturday, April 19, 2025. Sunny weather, clear skies and sunny weather. Day 64°. Night 52°.', 'score': 0.93952066, 'raw_content': None}], 'response_time': 0.56})]}}\n",
      "----\n",
      "{'agent': {'messages': [AIMessage(content='The current weather in San Francisco is overcast with a temperature of 54°F (12.2°C). Here are some details:\\n\\n- **Condition**: Overcast\\n- **Wind**: 8.3 mph (13.3 kph) from the southwest\\n- **Humidity**: 77%\\n- **Visibility**: 9 miles\\n- **Feels Like**: 51.5°F (10.8°C)\\n\\nYou can find more detailed updates [here](https://www.weatherapi.com/).', additional_kwargs={'refusal': None}, response_metadata={'token_usage': {'completion_tokens': 109, 'prompt_tokens': 645, 'total_tokens': 754, 'completion_tokens_details': {'accepted_prediction_tokens': 0, 'audio_tokens': 0, 'reasoning_tokens': 0, 'rejected_prediction_tokens': 0}, 'prompt_tokens_details': {'audio_tokens': 0, 'cached_tokens': 0}}, 'model_name': 'gpt-4o-mini-2024-07-18', 'system_fingerprint': 'fp_dbaca60df0', 'id': 'chatcmpl-BO6qO1945k8XHKzqTxa5Tm32PDEUM', 'finish_reason': 'stop', 'logprobs': None}, id='run-a57826fc-2dce-4de0-a3f3-aeef97d543f3-0', usage_metadata={'input_tokens': 645, 'output_tokens': 109, 'total_tokens': 754, 'input_token_details': {'audio': 0, 'cache_read': 0}, 'output_token_details': {'audio': 0, 'reasoning': 0}})]}}\n",
      "----\n"
     ]
    }
   ],
   "source": [
    "for chunk in agent_executor.stream(\n",
    "    {\"messages\": [HumanMessage(content=\"whats the weather in nj?\")]}\n",
    "):\n",
    "    print(chunk)\n",
    "    print(\"----\")"
   ]
  },
  {
   "cell_type": "markdown",
   "id": "c72b3043",
   "metadata": {},
   "source": [
    "## Streaming tokens\n",
    "\n",
    "In addition to streaming back messages, it is also useful to stream back tokens.\n",
    "We can do this with the `.astream_events` method.\n",
    "\n",
    ":::important\n",
    "This `.astream_events` method only works with Python 3.11 or higher.\n",
    ":::"
   ]
  },
  {
   "cell_type": "code",
   "execution_count": 21,
   "id": "a3fb262c",
   "metadata": {},
   "outputs": [
    {
     "name": "stdout",
     "output_type": "stream",
     "text": [
      "--\n",
      "Starting tool: tavily_search_results_json with inputs: {'query': 'current weather in New Jersey'}\n",
      "Done tool: tavily_search_results_json\n",
      "Tool output was: content='[{\"title\": \"Weather in New Jersey\", \"url\": \"https://www.weatherapi.com/\", \"content\": \"{\\'location\\': {\\'name\\': \\'Jersey City\\', \\'region\\': \\'New Jersey\\', \\'country\\': \\'United States of America\\', \\'lat\\': 40.7281, \\'lon\\': -74.0781, \\'tz_id\\': \\'America/New_York\\', \\'localtime_epoch\\': 1745086110, \\'localtime\\': \\'2025-04-19 14:08\\'}, \\'current\\': {\\'last_updated_epoch\\': 1745085600, \\'last_updated\\': \\'2025-04-19 14:00\\', \\'temp_c\\': 26.1, \\'temp_f\\': 79.0, \\'is_day\\': 1, \\'condition\\': {\\'text\\': \\'Partly cloudy\\', \\'icon\\': \\'//cdn.weatherapi.com/weather/64x64/day/116.png\\', \\'code\\': 1003}, \\'wind_mph\\': 15.7, \\'wind_kph\\': 25.2, \\'wind_degree\\': 244, \\'wind_dir\\': \\'WSW\\', \\'pressure_mb\\': 1015.0, \\'pressure_in\\': 29.96, \\'precip_mm\\': 0.0, \\'precip_in\\': 0.0, \\'humidity\\': 41, \\'cloud\\': 75, \\'feelslike_c\\': 27.0, \\'feelslike_f\\': 80.5, \\'windchill_c\\': 26.1, \\'windchill_f\\': 79.0, \\'heatindex_c\\': 27.2, \\'heatindex_f\\': 81.0, \\'dewpoint_c\\': 15.2, \\'dewpoint_f\\': 59.4, \\'vis_km\\': 16.0, \\'vis_miles\\': 9.0, \\'uv\\': 4.6, \\'gust_mph\\': 20.3, \\'gust_kph\\': 32.7}}\", \"score\": 0.9768631}, {\"title\": \"Weather in Jersey City in April 2025\", \"url\": \"https://world-weather.info/forecast/usa/jersey_city/april-2025/\", \"content\": \"New Jersey · Weather in Jersey City. Weather in Jersey City in April 2025 ... Saturday, 19 April. +63°. Day. +79°. Partly cloudy. Sunday, 20 April. +68°. Day. +66\", \"score\": 0.91288006}]' name='tavily_search_results_json' tool_call_id='call_wbK1rdWfMLJgiz3DJXvcUUDL' artifact={'query': 'current weather in New Jersey', 'follow_up_questions': None, 'answer': None, 'images': [], 'results': [{'title': 'Weather in New Jersey', 'url': 'https://www.weatherapi.com/', 'content': \"{'location': {'name': 'Jersey City', 'region': 'New Jersey', 'country': 'United States of America', 'lat': 40.7281, 'lon': -74.0781, 'tz_id': 'America/New_York', 'localtime_epoch': 1745086110, 'localtime': '2025-04-19 14:08'}, 'current': {'last_updated_epoch': 1745085600, 'last_updated': '2025-04-19 14:00', 'temp_c': 26.1, 'temp_f': 79.0, 'is_day': 1, 'condition': {'text': 'Partly cloudy', 'icon': '//cdn.weatherapi.com/weather/64x64/day/116.png', 'code': 1003}, 'wind_mph': 15.7, 'wind_kph': 25.2, 'wind_degree': 244, 'wind_dir': 'WSW', 'pressure_mb': 1015.0, 'pressure_in': 29.96, 'precip_mm': 0.0, 'precip_in': 0.0, 'humidity': 41, 'cloud': 75, 'feelslike_c': 27.0, 'feelslike_f': 80.5, 'windchill_c': 26.1, 'windchill_f': 79.0, 'heatindex_c': 27.2, 'heatindex_f': 81.0, 'dewpoint_c': 15.2, 'dewpoint_f': 59.4, 'vis_km': 16.0, 'vis_miles': 9.0, 'uv': 4.6, 'gust_mph': 20.3, 'gust_kph': 32.7}}\", 'score': 0.9768631, 'raw_content': None}, {'url': 'https://world-weather.info/forecast/usa/jersey_city/april-2025/', 'title': 'Weather in Jersey City in April 2025', 'content': 'New Jersey · Weather in Jersey City. Weather in Jersey City in April 2025 ... Saturday, 19 April. +63°. Day. +79°. Partly cloudy. Sunday, 20 April. +68°. Day. +66', 'score': 0.91288006, 'raw_content': None}], 'response_time': 1.79}\n",
      "--\n",
      "The| current| weather| in| New| Jersey| (|spec|ifically| Jersey| City|)| is| as| follows|:\n",
      "\n",
      "|-| **|Temperature|**|:| |79|.|0|°F| (|26|.|1|°C|)\n",
      "|-| **|Condition|**|:| Part|ly| cloudy|\n",
      "|-| **|Wind|**|:| |15|.|7| mph| (|25|.|2| k|ph|)| from| the| west|-s|outh|west|\n",
      "|-| **|Humidity|**|:| |41|%\n",
      "|-| **|Pressure|**|:| |29|.|96| in|Hg| (|101|5|.|0| mb|)\n",
      "|-| **|Visibility|**|:| |16| km| (|9| miles|)\n",
      "\n",
      "|You| can| find| more| detailed| information| [|here|](|https|://|www|.weather|api|.com|/|).|"
     ]
    }
   ],
   "source": [
    "async for event in agent_executor.astream_events(\n",
    "    {\"messages\": [HumanMessage(content=\"whats the weather in nj?\")]}, version=\"v1\"\n",
    "):\n",
    "    kind = event[\"event\"]\n",
    "    if kind == \"on_chain_start\":\n",
    "        if (\n",
    "            event[\"name\"] == \"Agent\"\n",
    "        ):  # Was assigned when creating the agent with `.with_config({\"run_name\": \"Agent\"})`\n",
    "            print(\n",
    "                f\"Starting agent: {event['name']} with input: {event['data'].get('input')}\"\n",
    "            )\n",
    "    elif kind == \"on_chain_end\":\n",
    "        if (\n",
    "            event[\"name\"] == \"Agent\"\n",
    "        ):  # Was assigned when creating the agent with `.with_config({\"run_name\": \"Agent\"})`\n",
    "            print()\n",
    "            print(\"--\")\n",
    "            print(\n",
    "                f\"Done agent: {event['name']} with output: {event['data'].get('output')['output']}\"\n",
    "            )\n",
    "    if kind == \"on_chat_model_stream\":\n",
    "        content = event[\"data\"][\"chunk\"].content\n",
    "        if content:\n",
    "            # Empty content in the context of OpenAI means\n",
    "            # that the model is asking for a tool to be invoked.\n",
    "            # So we only print non-empty content\n",
    "            print(content, end=\"|\")\n",
    "    elif kind == \"on_tool_start\":\n",
    "        print(\"--\")\n",
    "        print(\n",
    "            f\"Starting tool: {event['name']} with inputs: {event['data'].get('input')}\"\n",
    "        )\n",
    "    elif kind == \"on_tool_end\":\n",
    "        print(f\"Done tool: {event['name']}\")\n",
    "        print(f\"Tool output was: {event['data'].get('output')}\")\n",
    "        print(\"--\")"
   ]
  },
  {
   "cell_type": "markdown",
   "id": "022cbc8a",
   "metadata": {},
   "source": [
    "## Adding in memory\n",
    "\n",
    "As mentioned earlier, this agent is stateless. This means it does not remember previous interactions. To give it memory we need to pass in a checkpointer. When passing in a checkpointer, we also have to pass in a `thread_id` when invoking the agent (so it knows which thread/conversation to resume from)."
   ]
  },
  {
   "cell_type": "code",
   "execution_count": 22,
   "id": "c4073e35",
   "metadata": {},
   "outputs": [],
   "source": [
    "from langgraph.checkpoint.memory import MemorySaver\n",
    "\n",
    "memory = MemorySaver()"
   ]
  },
  {
   "cell_type": "code",
   "execution_count": 23,
   "id": "e64a944e-f9ac-43cf-903c-d3d28d765377",
   "metadata": {},
   "outputs": [],
   "source": [
    "agent_executor = create_react_agent(model, tools, checkpointer=memory)\n",
    "\n",
    "config = {\"configurable\": {\"thread_id\": \"abc123\"}}"
   ]
  },
  {
   "cell_type": "code",
   "execution_count": 24,
   "id": "a13462d0-2d02-4474-921e-15a1ba1fa274",
   "metadata": {},
   "outputs": [
    {
     "name": "stdout",
     "output_type": "stream",
     "text": [
      "{'agent': {'messages': [AIMessage(content='Hello Ryan! How can I assist you today?', additional_kwargs={'refusal': None}, response_metadata={'token_usage': {'completion_tokens': 12, 'prompt_tokens': 83, 'total_tokens': 95, 'completion_tokens_details': {'accepted_prediction_tokens': 0, 'audio_tokens': 0, 'reasoning_tokens': 0, 'rejected_prediction_tokens': 0}, 'prompt_tokens_details': {'audio_tokens': 0, 'cached_tokens': 0}}, 'model_name': 'gpt-4o-mini-2024-07-18', 'system_fingerprint': 'fp_dbaca60df0', 'id': 'chatcmpl-BO6qa3UouE9uCogGpQzXHl49qKLwv', 'finish_reason': 'stop', 'logprobs': None}, id='run-2966cdc4-171c-4ea7-91ed-ac2906fa879a-0', usage_metadata={'input_tokens': 83, 'output_tokens': 12, 'total_tokens': 95, 'input_token_details': {'audio': 0, 'cache_read': 0}, 'output_token_details': {'audio': 0, 'reasoning': 0}})]}}\n",
      "----\n"
     ]
    }
   ],
   "source": [
    "for chunk in agent_executor.stream(\n",
    "    {\"messages\": [HumanMessage(content=\"hi im Ryan!\")]}, config\n",
    "):\n",
    "    print(chunk)\n",
    "    print(\"----\")"
   ]
  },
  {
   "cell_type": "code",
   "execution_count": 25,
   "id": "56d8028b-5dbc-40b2-86f5-ed60631d86a3",
   "metadata": {},
   "outputs": [
    {
     "name": "stdout",
     "output_type": "stream",
     "text": [
      "{'agent': {'messages': [AIMessage(content='Your name is Ryan! How can I help you today?', additional_kwargs={'refusal': None}, response_metadata={'token_usage': {'completion_tokens': 14, 'prompt_tokens': 106, 'total_tokens': 120, 'completion_tokens_details': {'accepted_prediction_tokens': 0, 'audio_tokens': 0, 'reasoning_tokens': 0, 'rejected_prediction_tokens': 0}, 'prompt_tokens_details': {'audio_tokens': 0, 'cached_tokens': 0}}, 'model_name': 'gpt-4o-mini-2024-07-18', 'system_fingerprint': 'fp_dbaca60df0', 'id': 'chatcmpl-BO6qaIRyhzFcVj1Y9hNNeO48lQOIE', 'finish_reason': 'stop', 'logprobs': None}, id='run-8901a5bf-97fa-4079-8914-f3c0109a0f47-0', usage_metadata={'input_tokens': 106, 'output_tokens': 14, 'total_tokens': 120, 'input_token_details': {'audio': 0, 'cache_read': 0}, 'output_token_details': {'audio': 0, 'reasoning': 0}})]}}\n",
      "----\n"
     ]
    }
   ],
   "source": [
    "for chunk in agent_executor.stream(\n",
    "    {\"messages\": [HumanMessage(content=\"whats my name?\")]}, config\n",
    "):\n",
    "    print(chunk)\n",
    "    print(\"----\")"
   ]
  },
  {
   "cell_type": "markdown",
   "id": "bda99754-0a11-4447-b408-e8db8f2e3517",
   "metadata": {},
   "source": [
    "Example [LangSmith trace](https://smith.langchain.com/public/fa73960b-0f7d-4910-b73d-757a12f33b2b/r)"
   ]
  },
  {
   "cell_type": "markdown",
   "id": "ae908088",
   "metadata": {},
   "source": [
    "If you want to start a new conversation, all you have to do is change the `thread_id` used"
   ]
  },
  {
   "cell_type": "code",
   "execution_count": null,
   "id": "24460239",
   "metadata": {},
   "outputs": [
    {
     "name": "stdout",
     "output_type": "stream",
     "text": [
      "{'agent': {'messages': [AIMessage(content=\"I'm sorry, but I don't have access to that information. How can I assist you today?\", additional_kwargs={'refusal': None}, response_metadata={'token_usage': {'completion_tokens': 21, 'prompt_tokens': 84, 'total_tokens': 105, 'completion_tokens_details': {'accepted_prediction_tokens': 0, 'audio_tokens': 0, 'reasoning_tokens': 0, 'rejected_prediction_tokens': 0}, 'prompt_tokens_details': {'audio_tokens': 0, 'cached_tokens': 0}}, 'model_name': 'gpt-4o-mini-2024-07-18', 'system_fingerprint': 'fp_dbaca60df0', 'id': 'chatcmpl-BO6qczr4EuduDe7MIRiJrrYVGLBQv', 'finish_reason': 'stop', 'logprobs': None}, id='run-bb145fa2-b2b3-42de-b3de-dea79ba04f34-0', usage_metadata={'input_tokens': 84, 'output_tokens': 21, 'total_tokens': 105, 'input_token_details': {'audio': 0, 'cache_read': 0}, 'output_token_details': {'audio': 0, 'reasoning': 0}})]}}\n",
      "----\n"
     ]
    }
   ],
   "source": [
    "config = {\"configurable\": {\"thread_id\": \"xyz123\"}}\n",
    "for chunk in agent_executor.stream(\n",
    "    {\"messages\": [HumanMessage(content=\"whats my name?\")]}, config\n",
    "):\n",
    "    print(chunk)\n",
    "    print(\"----\")"
   ]
  },
  {
   "cell_type": "markdown",
   "id": "c029798f",
   "metadata": {},
   "source": [
    "## Conclusion\n",
    "\n",
    "That's a wrap! In this quick start we covered how to create a simple agent. \n",
    "We've then shown how to stream back a response - not only with the intermediate steps, but also tokens!\n",
    "We've also added in memory so you can have a conversation with them.\n",
    "Agents are a complex topic with lots to learn! \n",
    "\n",
    "For more information on Agents, please check out the [LangGraph](/docs/concepts/architecture/#langgraph) documentation. This has it's own set of concepts, tutorials, and how-to guides."
   ]
  },
  {
   "cell_type": "code",
   "execution_count": null,
   "id": "e3ec3244",
   "metadata": {},
   "outputs": [],
   "source": []
  }
 ],
 "metadata": {
  "kernelspec": {
   "display_name": "Python 3 (ipykernel)",
   "language": "python",
   "name": "python3"
  },
  "language_info": {
   "codemirror_mode": {
    "name": "ipython",
    "version": 3
   },
   "file_extension": ".py",
   "mimetype": "text/x-python",
   "name": "python",
   "nbconvert_exporter": "python",
   "pygments_lexer": "ipython3",
   "version": "3.10.16"
  }
 },
 "nbformat": 4,
 "nbformat_minor": 5
}
